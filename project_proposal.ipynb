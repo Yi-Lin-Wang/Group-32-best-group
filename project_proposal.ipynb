{
 "cells": [
  {
   "cell_type": "markdown",
   "id": "6a82f37c-2a87-4efe-b815-f7ceb03622f0",
   "metadata": {},
   "source": [
    "\n",
    "    Title\n",
    "    Introduction:\n",
    "        Provide some relevant background information on the topic so that someone unfamiliar with it will be prepared to understand the rest of your proposal\n",
    "        Clearly state the question you will try to answer with your project\n",
    "        Identify and describe the dataset that will be used to answer the question\n",
    "    Preliminary exploratory data analysis:\n",
    "        Demonstrate that the dataset can be read from the web into R \n",
    "        Clean and wrangle your data into a tidy format\n",
    "        Using only training data, summarize the data in at least one table (this is exploratory data analysis). An example of a useful table could be one that reports the number of observations in each class, the means of the predictor variables you plan to use in your analysis and how many rows have missing data. \n",
    "        Using only training data, visualize the data with at least one plot relevant to the analysis you plan to do (this is exploratory data analysis). An example of a useful visualization could be one that compares the distributions of each of the predictor variables you plan to use in your analysis.\n",
    "    Methods:\n",
    "        Explain how you will conduct either your data analysis and which variables/columns you will use. Note - you do not need to use all variables/columns that exist in the raw data set. In fact, that's often not a good idea. For each variable think: is this a useful variable for prediction?\n",
    "        Describe at least one way that you will visualize the results\n",
    "    Expected outcomes and significance:\n",
    "        What do you expect to find?\n",
    "        What impact could such findings have?\n",
    "        What future questions could this lead to?\n",
    "\n",
    "Please submit your group project proposal. Only one member of your team needs to submit. "
   ]
  },
  {
   "cell_type": "code",
   "execution_count": null,
   "id": "26fa9320-55ba-4a1b-9844-72431f4398ae",
   "metadata": {},
   "outputs": [],
   "source": []
  }
 ],
 "metadata": {
  "kernelspec": {
   "display_name": "R",
   "language": "R",
   "name": "ir"
  },
  "language_info": {
   "codemirror_mode": "r",
   "file_extension": ".r",
   "mimetype": "text/x-r-source",
   "name": "R",
   "pygments_lexer": "r",
   "version": "4.1.3"
  }
 },
 "nbformat": 4,
 "nbformat_minor": 5
}
