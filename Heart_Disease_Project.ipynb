{
 "cells": [
  {
   "cell_type": "markdown",
   "id": "221ad691-a6ee-41be-911c-98caf1467b09",
   "metadata": {},
   "source": [
    "Most Significant Variables Affecting Heart Disease\n",
    "Introduction\n",
    "\n",
    "Coronary heart disease is a disease in the heart and coronary arteries which is caused by the buildup of fatty materials in the blood vessels that supply oxygen. This can cause a heart attack, chest pain or angina (clotting). Main factors that affect heart disease (based on the cdc) : High blood pressure, high cholesterol and smoking are key risk factors of heart disease. However other factors also increase the risk of heart disease such as diabetes, physical inactivity, overweightness and obesity.\n",
    "\n",
    "Hence, the question we want to answer is \"Which variables from the dataset have the most significant impact on predicting heart disease?\".\n",
    "\n",
    "The dataset used will be the Cleveland Heart Disease dataset taken from the UCI repository collected in the city of Cleveland Ohio donated in 1988. It consists of 303 individual observations under 76 variables. Of the 76 variables, there were 14 main variables, of which 4 were selected to be analyzed for correlation to the likelihood of an individual to experience heart disease.\n",
    "Preliminary Exploratory Data Analysis"
   ]
  },
  {
   "cell_type": "code",
   "execution_count": 1,
   "id": "9528bdb9-d098-4da4-888b-973b320dfd85",
   "metadata": {},
   "outputs": [
    {
     "name": "stderr",
     "output_type": "stream",
     "text": [
      "\n",
      "Attaching package: ‘dplyr’\n",
      "\n",
      "\n",
      "The following objects are masked from ‘package:stats’:\n",
      "\n",
      "    filter, lag\n",
      "\n",
      "\n",
      "The following objects are masked from ‘package:base’:\n",
      "\n",
      "    intersect, setdiff, setequal, union\n",
      "\n",
      "\n",
      "── \u001b[1mAttaching packages\u001b[22m ─────────────────────────────────────── tidyverse 1.3.1 ──\n",
      "\n",
      "\u001b[32m✔\u001b[39m \u001b[34mggplot2\u001b[39m 3.3.6     \u001b[32m✔\u001b[39m \u001b[34mpurrr  \u001b[39m 0.3.4\n",
      "\u001b[32m✔\u001b[39m \u001b[34mtibble \u001b[39m 3.1.7     \u001b[32m✔\u001b[39m \u001b[34mstringr\u001b[39m 1.4.0\n",
      "\u001b[32m✔\u001b[39m \u001b[34mtidyr  \u001b[39m 1.2.0     \u001b[32m✔\u001b[39m \u001b[34mforcats\u001b[39m 0.5.1\n",
      "\u001b[32m✔\u001b[39m \u001b[34mreadr  \u001b[39m 2.1.2     \n",
      "\n",
      "── \u001b[1mConflicts\u001b[22m ────────────────────────────────────────── tidyverse_conflicts() ──\n",
      "\u001b[31m✖\u001b[39m \u001b[34mdplyr\u001b[39m::\u001b[32mfilter()\u001b[39m masks \u001b[34mstats\u001b[39m::filter()\n",
      "\u001b[31m✖\u001b[39m \u001b[34mdplyr\u001b[39m::\u001b[32mlag()\u001b[39m    masks \u001b[34mstats\u001b[39m::lag()\n",
      "\n",
      "── \u001b[1mAttaching packages\u001b[22m ────────────────────────────────────── tidymodels 1.0.0 ──\n",
      "\n",
      "\u001b[32m✔\u001b[39m \u001b[34mbroom       \u001b[39m 1.0.0     \u001b[32m✔\u001b[39m \u001b[34mrsample     \u001b[39m 1.0.0\n",
      "\u001b[32m✔\u001b[39m \u001b[34mdials       \u001b[39m 1.0.0     \u001b[32m✔\u001b[39m \u001b[34mtune        \u001b[39m 1.0.0\n",
      "\u001b[32m✔\u001b[39m \u001b[34minfer       \u001b[39m 1.0.2     \u001b[32m✔\u001b[39m \u001b[34mworkflows   \u001b[39m 1.0.0\n",
      "\u001b[32m✔\u001b[39m \u001b[34mmodeldata   \u001b[39m 1.0.0     \u001b[32m✔\u001b[39m \u001b[34mworkflowsets\u001b[39m 1.0.0\n",
      "\u001b[32m✔\u001b[39m \u001b[34mparsnip     \u001b[39m 1.0.0     \u001b[32m✔\u001b[39m \u001b[34myardstick   \u001b[39m 1.0.0\n",
      "\u001b[32m✔\u001b[39m \u001b[34mrecipes     \u001b[39m 1.0.1     \n",
      "\n",
      "── \u001b[1mConflicts\u001b[22m ───────────────────────────────────────── tidymodels_conflicts() ──\n",
      "\u001b[31m✖\u001b[39m \u001b[34mscales\u001b[39m::\u001b[32mdiscard()\u001b[39m masks \u001b[34mpurrr\u001b[39m::discard()\n",
      "\u001b[31m✖\u001b[39m \u001b[34mdplyr\u001b[39m::\u001b[32mfilter()\u001b[39m   masks \u001b[34mstats\u001b[39m::filter()\n",
      "\u001b[31m✖\u001b[39m \u001b[34mrecipes\u001b[39m::\u001b[32mfixed()\u001b[39m  masks \u001b[34mstringr\u001b[39m::fixed()\n",
      "\u001b[31m✖\u001b[39m \u001b[34mdplyr\u001b[39m::\u001b[32mlag()\u001b[39m      masks \u001b[34mstats\u001b[39m::lag()\n",
      "\u001b[31m✖\u001b[39m \u001b[34myardstick\u001b[39m::\u001b[32mspec()\u001b[39m masks \u001b[34mreadr\u001b[39m::spec()\n",
      "\u001b[31m✖\u001b[39m \u001b[34mrecipes\u001b[39m::\u001b[32mstep()\u001b[39m   masks \u001b[34mstats\u001b[39m::step()\n",
      "\u001b[34m•\u001b[39m Use suppressPackageStartupMessages() to eliminate package startup messages\n",
      "\n"
     ]
    }
   ],
   "source": [
    "library(dplyr)\n",
    "library(tidyverse)\n",
    "library(tidymodels)"
   ]
  },
  {
   "cell_type": "code",
   "execution_count": 2,
   "id": "57936aec-d3d1-406e-8543-9a4dc9a692be",
   "metadata": {},
   "outputs": [
    {
     "name": "stderr",
     "output_type": "stream",
     "text": [
      "\u001b[1mRows: \u001b[22m\u001b[34m303\u001b[39m \u001b[1mColumns: \u001b[22m\u001b[34m14\u001b[39m\n",
      "\u001b[36m──\u001b[39m \u001b[1mColumn specification\u001b[22m \u001b[36m────────────────────────────────────────────────────────\u001b[39m\n",
      "\u001b[1mDelimiter:\u001b[22m \",\"\n",
      "\u001b[31mchr\u001b[39m  (2): X12, X13\n",
      "\u001b[32mdbl\u001b[39m (12): X1, X2, X3, X4, X5, X6, X7, X8, X9, X10, X11, X14\n",
      "\n",
      "\u001b[36mℹ\u001b[39m Use `spec()` to retrieve the full column specification for this data.\n",
      "\u001b[36mℹ\u001b[39m Specify the column types or set `show_col_types = FALSE` to quiet this message.\n"
     ]
    },
    {
     "data": {
      "text/html": [
       "<table class=\"dataframe\">\n",
       "<caption>A tibble: 6 × 14</caption>\n",
       "<thead>\n",
       "\t<tr><th scope=col>age</th><th scope=col>sex</th><th scope=col>cp</th><th scope=col>trestbps</th><th scope=col>chol</th><th scope=col>fbs</th><th scope=col>restecg</th><th scope=col>thalach</th><th scope=col>exang</th><th scope=col>oldpeak</th><th scope=col>slope</th><th scope=col>ca</th><th scope=col>thal</th><th scope=col>num</th></tr>\n",
       "\t<tr><th scope=col>&lt;dbl&gt;</th><th scope=col>&lt;fct&gt;</th><th scope=col>&lt;fct&gt;</th><th scope=col>&lt;dbl&gt;</th><th scope=col>&lt;dbl&gt;</th><th scope=col>&lt;fct&gt;</th><th scope=col>&lt;fct&gt;</th><th scope=col>&lt;dbl&gt;</th><th scope=col>&lt;fct&gt;</th><th scope=col>&lt;dbl&gt;</th><th scope=col>&lt;fct&gt;</th><th scope=col>&lt;fct&gt;</th><th scope=col>&lt;fct&gt;</th><th scope=col>&lt;fct&gt;</th></tr>\n",
       "</thead>\n",
       "<tbody>\n",
       "\t<tr><td>63</td><td>1</td><td>1</td><td>145</td><td>233</td><td>1</td><td>2</td><td>150</td><td>0</td><td>2.3</td><td>3</td><td>0.0</td><td>6.0</td><td>0</td></tr>\n",
       "\t<tr><td>67</td><td>1</td><td>4</td><td>160</td><td>286</td><td>0</td><td>2</td><td>108</td><td>1</td><td>1.5</td><td>2</td><td>3.0</td><td>3.0</td><td>2</td></tr>\n",
       "\t<tr><td>67</td><td>1</td><td>4</td><td>120</td><td>229</td><td>0</td><td>2</td><td>129</td><td>1</td><td>2.6</td><td>2</td><td>2.0</td><td>7.0</td><td>1</td></tr>\n",
       "\t<tr><td>37</td><td>1</td><td>3</td><td>130</td><td>250</td><td>0</td><td>0</td><td>187</td><td>0</td><td>3.5</td><td>3</td><td>0.0</td><td>3.0</td><td>0</td></tr>\n",
       "\t<tr><td>41</td><td>0</td><td>2</td><td>130</td><td>204</td><td>0</td><td>2</td><td>172</td><td>0</td><td>1.4</td><td>1</td><td>0.0</td><td>3.0</td><td>0</td></tr>\n",
       "\t<tr><td>56</td><td>1</td><td>2</td><td>120</td><td>236</td><td>0</td><td>0</td><td>178</td><td>0</td><td>0.8</td><td>1</td><td>0.0</td><td>3.0</td><td>0</td></tr>\n",
       "</tbody>\n",
       "</table>\n"
      ],
      "text/latex": [
       "A tibble: 6 × 14\n",
       "\\begin{tabular}{llllllllllllll}\n",
       " age & sex & cp & trestbps & chol & fbs & restecg & thalach & exang & oldpeak & slope & ca & thal & num\\\\\n",
       " <dbl> & <fct> & <fct> & <dbl> & <dbl> & <fct> & <fct> & <dbl> & <fct> & <dbl> & <fct> & <fct> & <fct> & <fct>\\\\\n",
       "\\hline\n",
       "\t 63 & 1 & 1 & 145 & 233 & 1 & 2 & 150 & 0 & 2.3 & 3 & 0.0 & 6.0 & 0\\\\\n",
       "\t 67 & 1 & 4 & 160 & 286 & 0 & 2 & 108 & 1 & 1.5 & 2 & 3.0 & 3.0 & 2\\\\\n",
       "\t 67 & 1 & 4 & 120 & 229 & 0 & 2 & 129 & 1 & 2.6 & 2 & 2.0 & 7.0 & 1\\\\\n",
       "\t 37 & 1 & 3 & 130 & 250 & 0 & 0 & 187 & 0 & 3.5 & 3 & 0.0 & 3.0 & 0\\\\\n",
       "\t 41 & 0 & 2 & 130 & 204 & 0 & 2 & 172 & 0 & 1.4 & 1 & 0.0 & 3.0 & 0\\\\\n",
       "\t 56 & 1 & 2 & 120 & 236 & 0 & 0 & 178 & 0 & 0.8 & 1 & 0.0 & 3.0 & 0\\\\\n",
       "\\end{tabular}\n"
      ],
      "text/markdown": [
       "\n",
       "A tibble: 6 × 14\n",
       "\n",
       "| age &lt;dbl&gt; | sex &lt;fct&gt; | cp &lt;fct&gt; | trestbps &lt;dbl&gt; | chol &lt;dbl&gt; | fbs &lt;fct&gt; | restecg &lt;fct&gt; | thalach &lt;dbl&gt; | exang &lt;fct&gt; | oldpeak &lt;dbl&gt; | slope &lt;fct&gt; | ca &lt;fct&gt; | thal &lt;fct&gt; | num &lt;fct&gt; |\n",
       "|---|---|---|---|---|---|---|---|---|---|---|---|---|---|\n",
       "| 63 | 1 | 1 | 145 | 233 | 1 | 2 | 150 | 0 | 2.3 | 3 | 0.0 | 6.0 | 0 |\n",
       "| 67 | 1 | 4 | 160 | 286 | 0 | 2 | 108 | 1 | 1.5 | 2 | 3.0 | 3.0 | 2 |\n",
       "| 67 | 1 | 4 | 120 | 229 | 0 | 2 | 129 | 1 | 2.6 | 2 | 2.0 | 7.0 | 1 |\n",
       "| 37 | 1 | 3 | 130 | 250 | 0 | 0 | 187 | 0 | 3.5 | 3 | 0.0 | 3.0 | 0 |\n",
       "| 41 | 0 | 2 | 130 | 204 | 0 | 2 | 172 | 0 | 1.4 | 1 | 0.0 | 3.0 | 0 |\n",
       "| 56 | 1 | 2 | 120 | 236 | 0 | 0 | 178 | 0 | 0.8 | 1 | 0.0 | 3.0 | 0 |\n",
       "\n"
      ],
      "text/plain": [
       "  age sex cp trestbps chol fbs restecg thalach exang oldpeak slope ca  thal num\n",
       "1 63  1   1  145      233  1   2       150     0     2.3     3     0.0 6.0  0  \n",
       "2 67  1   4  160      286  0   2       108     1     1.5     2     3.0 3.0  2  \n",
       "3 67  1   4  120      229  0   2       129     1     2.6     2     2.0 7.0  1  \n",
       "4 37  1   3  130      250  0   0       187     0     3.5     3     0.0 3.0  0  \n",
       "5 41  0   2  130      204  0   2       172     0     1.4     1     0.0 3.0  0  \n",
       "6 56  1   2  120      236  0   0       178     0     0.8     1     0.0 3.0  0  "
      ]
     },
     "metadata": {},
     "output_type": "display_data"
    }
   ],
   "source": [
    "# Read data into R\n",
    "heart_disease_data <- read_csv(\"https://archive.ics.uci.edu/ml/machine-learning-databases/heart-disease/processed.cleveland.data\", col_names = FALSE)\n",
    "\n",
    "# Modify column names \n",
    "colnames(heart_disease_data) <- c(\"age\", \"sex\", \"cp\", \"trestbps\", \"chol\", \"fbs\", \"restecg\", \"thalach\", \"exang\", \"oldpeak\", \"slope\", \"ca\", \"thal\", \"num\") \n",
    "\n",
    "# Modify datatypes\n",
    "heart_disease_data <- heart_disease_data |>\n",
    "    mutate(sex = as.factor(sex)) |>\n",
    "    mutate(cp = as.factor(cp)) |>\n",
    "    mutate(fbs = as.factor(fbs)) |>\n",
    "    mutate(restecg = as.factor(restecg)) |>\n",
    "    mutate(exang = as.factor(exang)) |>\n",
    "    mutate(slope = as.factor(slope)) |>\n",
    "    mutate(thal = as.factor(thal)) |>\n",
    "    mutate(num = as.factor(num)) |>\n",
    "    mutate(ca = as.factor(ca))\n",
    "\n",
    "# Change \"?\" to NA\n",
    "heart_disease_data[heart_disease_data == \"?\"] <- NA\n",
    "\n",
    "head(heart_disease_data)"
   ]
  },
  {
   "cell_type": "code",
   "execution_count": 3,
   "id": "919ca784-ff56-430a-90d0-99362700ba57",
   "metadata": {},
   "outputs": [],
   "source": [
    "set.seed(9999) \n",
    "heart_disease_split <- initial_split(heart_disease_data, prop = 0.75, strata = num)\n",
    "heart_disease_training <- training(heart_disease_split)\n",
    "heart_disease_testing <- testing(heart_disease_split)"
   ]
  },
  {
   "cell_type": "code",
   "execution_count": 4,
   "id": "e5b860e6-444c-485b-ae4f-1f90f472cc2f",
   "metadata": {},
   "outputs": [
    {
     "data": {
      "text/html": [
       "<table class=\"dataframe\">\n",
       "<caption>A tibble: 6 × 5</caption>\n",
       "<thead>\n",
       "\t<tr><th scope=col>age</th><th scope=col>trestbps</th><th scope=col>chol</th><th scope=col>thalach</th><th scope=col>num</th></tr>\n",
       "\t<tr><th scope=col>&lt;dbl&gt;</th><th scope=col>&lt;dbl&gt;</th><th scope=col>&lt;dbl&gt;</th><th scope=col>&lt;dbl&gt;</th><th scope=col>&lt;fct&gt;</th></tr>\n",
       "</thead>\n",
       "<tbody>\n",
       "\t<tr><td>63</td><td>145</td><td>233</td><td>150</td><td>0</td></tr>\n",
       "\t<tr><td>37</td><td>130</td><td>250</td><td>187</td><td>0</td></tr>\n",
       "\t<tr><td>41</td><td>130</td><td>204</td><td>172</td><td>0</td></tr>\n",
       "\t<tr><td>56</td><td>120</td><td>236</td><td>178</td><td>0</td></tr>\n",
       "\t<tr><td>56</td><td>140</td><td>294</td><td>153</td><td>0</td></tr>\n",
       "\t<tr><td>44</td><td>120</td><td>263</td><td>173</td><td>0</td></tr>\n",
       "</tbody>\n",
       "</table>\n"
      ],
      "text/latex": [
       "A tibble: 6 × 5\n",
       "\\begin{tabular}{lllll}\n",
       " age & trestbps & chol & thalach & num\\\\\n",
       " <dbl> & <dbl> & <dbl> & <dbl> & <fct>\\\\\n",
       "\\hline\n",
       "\t 63 & 145 & 233 & 150 & 0\\\\\n",
       "\t 37 & 130 & 250 & 187 & 0\\\\\n",
       "\t 41 & 130 & 204 & 172 & 0\\\\\n",
       "\t 56 & 120 & 236 & 178 & 0\\\\\n",
       "\t 56 & 140 & 294 & 153 & 0\\\\\n",
       "\t 44 & 120 & 263 & 173 & 0\\\\\n",
       "\\end{tabular}\n"
      ],
      "text/markdown": [
       "\n",
       "A tibble: 6 × 5\n",
       "\n",
       "| age &lt;dbl&gt; | trestbps &lt;dbl&gt; | chol &lt;dbl&gt; | thalach &lt;dbl&gt; | num &lt;fct&gt; |\n",
       "|---|---|---|---|---|\n",
       "| 63 | 145 | 233 | 150 | 0 |\n",
       "| 37 | 130 | 250 | 187 | 0 |\n",
       "| 41 | 130 | 204 | 172 | 0 |\n",
       "| 56 | 120 | 236 | 178 | 0 |\n",
       "| 56 | 140 | 294 | 153 | 0 |\n",
       "| 44 | 120 | 263 | 173 | 0 |\n",
       "\n"
      ],
      "text/plain": [
       "  age trestbps chol thalach num\n",
       "1 63  145      233  150     0  \n",
       "2 37  130      250  187     0  \n",
       "3 41  130      204  172     0  \n",
       "4 56  120      236  178     0  \n",
       "5 56  140      294  153     0  \n",
       "6 44  120      263  173     0  "
      ]
     },
     "metadata": {},
     "output_type": "display_data"
    }
   ],
   "source": [
    "selected_heart_disease_vars <- heart_disease_training |> \n",
    "    select(age, trestbps, chol, thalach, num)\n",
    "head(selected_heart_disease_vars)"
   ]
  },
  {
   "cell_type": "code",
   "execution_count": 5,
   "id": "5015d7fa-fc4e-441e-b7f7-05f67a836cd1",
   "metadata": {},
   "outputs": [
    {
     "data": {
      "text/html": [
       "<table class=\"dataframe\">\n",
       "<caption>A tibble: 0 × 5</caption>\n",
       "<thead>\n",
       "\t<tr><th scope=col>age</th><th scope=col>trestbps</th><th scope=col>chol</th><th scope=col>thalach</th><th scope=col>num</th></tr>\n",
       "\t<tr><th scope=col>&lt;dbl&gt;</th><th scope=col>&lt;dbl&gt;</th><th scope=col>&lt;dbl&gt;</th><th scope=col>&lt;dbl&gt;</th><th scope=col>&lt;fct&gt;</th></tr>\n",
       "</thead>\n",
       "<tbody>\n",
       "</tbody>\n",
       "</table>\n"
      ],
      "text/latex": [
       "A tibble: 0 × 5\n",
       "\\begin{tabular}{lllll}\n",
       " age & trestbps & chol & thalach & num\\\\\n",
       " <dbl> & <dbl> & <dbl> & <dbl> & <fct>\\\\\n",
       "\\hline\n",
       "\\end{tabular}\n"
      ],
      "text/markdown": [
       "\n",
       "A tibble: 0 × 5\n",
       "\n",
       "| age &lt;dbl&gt; | trestbps &lt;dbl&gt; | chol &lt;dbl&gt; | thalach &lt;dbl&gt; | num &lt;fct&gt; |\n",
       "|---|---|---|---|---|\n",
       "\n"
      ],
      "text/plain": [
       "     age trestbps chol thalach num"
      ]
     },
     "metadata": {},
     "output_type": "display_data"
    }
   ],
   "source": [
    "selected_heart_disease_vars |> \n",
    "    filter(is.na(age) | is.na(trestbps) | is.na(chol) | is.na(thalach)| is.na(num))"
   ]
  },
  {
   "cell_type": "code",
   "execution_count": 6,
   "id": "50990ceb-cf43-4cae-8252-0e6981c0895a",
   "metadata": {},
   "outputs": [
    {
     "data": {
      "image/png": "[encoded data removed]",
      "text/plain": [
       "plot without title"
      ]
     },
     "metadata": {
      "image/png": {
       "height": 420,
       "width": 420
      }
     },
     "output_type": "display_data"
    }
   ],
   "source": [
    "heart_disease_training |> \n",
    "    ggplot(aes(x = chol)) +\n",
    "    geom_bar(width = 1) +\n",
    "    xlab(\"Level of Cholesterol ()\") +\n",
    "    ylab(\"Liklihood oh heart disease (0-5)\") +\n",
    "    ggtitle(\"Cholesterol vs Level Of Heart Disease\") +\n",
    "    theme(text = element_text(size = 18))"
   ]
  },
  {
   "cell_type": "markdown",
   "id": "a14eaaab-e866-4f5f-92d6-cf4d50611ee5",
   "metadata": {},
   "source": [
    "Generate a KNN classification model for age:"
   ]
  },
  {
   "cell_type": "code",
   "execution_count": 12,
   "id": "17aab0eb-267e-4ab4-944c-817a91189497",
   "metadata": {},
   "outputs": [
    {
     "name": "stderr",
     "output_type": "stream",
     "text": [
      "\u001b[33m!\u001b[39m \u001b[33mFold4: internal:\n",
      "  No observations were detected in `truth` for level(s): '4'\n",
      "  Computation will proceed by ignoring those levels.\u001b[39m\n",
      "\n"
     ]
    },
    {
     "data": {
      "text/html": [
       "<table class=\"dataframe\">\n",
       "<caption>A tibble: 9 × 7</caption>\n",
       "<thead>\n",
       "\t<tr><th scope=col>neighbors</th><th scope=col>.metric</th><th scope=col>.estimator</th><th scope=col>mean</th><th scope=col>n</th><th scope=col>std_err</th><th scope=col>.config</th></tr>\n",
       "\t<tr><th scope=col>&lt;int&gt;</th><th scope=col>&lt;chr&gt;</th><th scope=col>&lt;chr&gt;</th><th scope=col>&lt;dbl&gt;</th><th scope=col>&lt;int&gt;</th><th scope=col>&lt;dbl&gt;</th><th scope=col>&lt;chr&gt;</th></tr>\n",
       "</thead>\n",
       "<tbody>\n",
       "\t<tr><td> 1</td><td>accuracy</td><td>multiclass</td><td>0.4745597</td><td>5</td><td>0.029384309</td><td>Preprocessor1_Model1</td></tr>\n",
       "\t<tr><td> 2</td><td>accuracy</td><td>multiclass</td><td>0.4611210</td><td>5</td><td>0.022619061</td><td>Preprocessor1_Model2</td></tr>\n",
       "\t<tr><td> 4</td><td>accuracy</td><td>multiclass</td><td>0.4820678</td><td>5</td><td>0.032095846</td><td>Preprocessor1_Model3</td></tr>\n",
       "\t<tr><td> 6</td><td>accuracy</td><td>multiclass</td><td>0.5052311</td><td>5</td><td>0.017518982</td><td>Preprocessor1_Model4</td></tr>\n",
       "\t<tr><td> 7</td><td>accuracy</td><td>multiclass</td><td>0.5180896</td><td>5</td><td>0.012769050</td><td>Preprocessor1_Model5</td></tr>\n",
       "\t<tr><td> 9</td><td>accuracy</td><td>multiclass</td><td>0.5404354</td><td>5</td><td>0.010793463</td><td>Preprocessor1_Model6</td></tr>\n",
       "\t<tr><td>11</td><td>accuracy</td><td>multiclass</td><td>0.5353884</td><td>5</td><td>0.009756493</td><td>Preprocessor1_Model7</td></tr>\n",
       "\t<tr><td>13</td><td>accuracy</td><td>multiclass</td><td>0.5311331</td><td>5</td><td>0.010985779</td><td>Preprocessor1_Model8</td></tr>\n",
       "\t<tr><td>14</td><td>accuracy</td><td>multiclass</td><td>0.5311331</td><td>5</td><td>0.010985779</td><td>Preprocessor1_Model9</td></tr>\n",
       "</tbody>\n",
       "</table>\n"
      ],
      "text/latex": [
       "A tibble: 9 × 7\n",
       "\\begin{tabular}{lllllll}\n",
       " neighbors & .metric & .estimator & mean & n & std\\_err & .config\\\\\n",
       " <int> & <chr> & <chr> & <dbl> & <int> & <dbl> & <chr>\\\\\n",
       "\\hline\n",
       "\t  1 & accuracy & multiclass & 0.4745597 & 5 & 0.029384309 & Preprocessor1\\_Model1\\\\\n",
       "\t  2 & accuracy & multiclass & 0.4611210 & 5 & 0.022619061 & Preprocessor1\\_Model2\\\\\n",
       "\t  4 & accuracy & multiclass & 0.4820678 & 5 & 0.032095846 & Preprocessor1\\_Model3\\\\\n",
       "\t  6 & accuracy & multiclass & 0.5052311 & 5 & 0.017518982 & Preprocessor1\\_Model4\\\\\n",
       "\t  7 & accuracy & multiclass & 0.5180896 & 5 & 0.012769050 & Preprocessor1\\_Model5\\\\\n",
       "\t  9 & accuracy & multiclass & 0.5404354 & 5 & 0.010793463 & Preprocessor1\\_Model6\\\\\n",
       "\t 11 & accuracy & multiclass & 0.5353884 & 5 & 0.009756493 & Preprocessor1\\_Model7\\\\\n",
       "\t 13 & accuracy & multiclass & 0.5311331 & 5 & 0.010985779 & Preprocessor1\\_Model8\\\\\n",
       "\t 14 & accuracy & multiclass & 0.5311331 & 5 & 0.010985779 & Preprocessor1\\_Model9\\\\\n",
       "\\end{tabular}\n"
      ],
      "text/markdown": [
       "\n",
       "A tibble: 9 × 7\n",
       "\n",
       "| neighbors &lt;int&gt; | .metric &lt;chr&gt; | .estimator &lt;chr&gt; | mean &lt;dbl&gt; | n &lt;int&gt; | std_err &lt;dbl&gt; | .config &lt;chr&gt; |\n",
       "|---|---|---|---|---|---|---|\n",
       "|  1 | accuracy | multiclass | 0.4745597 | 5 | 0.029384309 | Preprocessor1_Model1 |\n",
       "|  2 | accuracy | multiclass | 0.4611210 | 5 | 0.022619061 | Preprocessor1_Model2 |\n",
       "|  4 | accuracy | multiclass | 0.4820678 | 5 | 0.032095846 | Preprocessor1_Model3 |\n",
       "|  6 | accuracy | multiclass | 0.5052311 | 5 | 0.017518982 | Preprocessor1_Model4 |\n",
       "|  7 | accuracy | multiclass | 0.5180896 | 5 | 0.012769050 | Preprocessor1_Model5 |\n",
       "|  9 | accuracy | multiclass | 0.5404354 | 5 | 0.010793463 | Preprocessor1_Model6 |\n",
       "| 11 | accuracy | multiclass | 0.5353884 | 5 | 0.009756493 | Preprocessor1_Model7 |\n",
       "| 13 | accuracy | multiclass | 0.5311331 | 5 | 0.010985779 | Preprocessor1_Model8 |\n",
       "| 14 | accuracy | multiclass | 0.5311331 | 5 | 0.010985779 | Preprocessor1_Model9 |\n",
       "\n"
      ],
      "text/plain": [
       "  neighbors .metric  .estimator mean      n std_err     .config             \n",
       "1  1        accuracy multiclass 0.4745597 5 0.029384309 Preprocessor1_Model1\n",
       "2  2        accuracy multiclass 0.4611210 5 0.022619061 Preprocessor1_Model2\n",
       "3  4        accuracy multiclass 0.4820678 5 0.032095846 Preprocessor1_Model3\n",
       "4  6        accuracy multiclass 0.5052311 5 0.017518982 Preprocessor1_Model4\n",
       "5  7        accuracy multiclass 0.5180896 5 0.012769050 Preprocessor1_Model5\n",
       "6  9        accuracy multiclass 0.5404354 5 0.010793463 Preprocessor1_Model6\n",
       "7 11        accuracy multiclass 0.5353884 5 0.009756493 Preprocessor1_Model7\n",
       "8 13        accuracy multiclass 0.5311331 5 0.010985779 Preprocessor1_Model8\n",
       "9 14        accuracy multiclass 0.5311331 5 0.010985779 Preprocessor1_Model9"
      ]
     },
     "metadata": {},
     "output_type": "display_data"
    }
   ],
   "source": [
    "# create a recipe\n",
    "age_recipe <- recipe(num ~ age, data = heart_disease_training) |>\n",
    "    step_scale(all_predictors()) |>\n",
    "    step_center(all_predictors())\n",
    "\n",
    "# create a KNN classification model with k unspecified\n",
    "age_knn <- nearest_neighbor(weight_func = \"rectangular\", neighbors = tune()) |>\n",
    "    set_engine(\"kknn\") |>\n",
    "    set_mode(\"classification\")\n",
    "\n",
    "# perform cross validation \n",
    "age_vfold <- vfold_cv(heart_disease_training, v = 5, strata = num)\n",
    "\n",
    "# fit the model and calculate the accuracy of each K values \n",
    "age_accuracy <- workflow() |>\n",
    "    add_recipe(age_recipe) |>\n",
    "    add_model(age_knn) |>\n",
    "    tune_grid(resamples = age_vfold, grid = 10) |>\n",
    "    collect_metrics() |>\n",
    "    filter(.metric == \"accuracy\")\n",
    "age_accuracy"
   ]
  },
  {
   "cell_type": "markdown",
   "id": "9361294d-973a-4dc9-a527-545c92aa20f7",
   "metadata": {},
   "source": [
    "Now that we have accuracies for each K value, we can plot a graph of accuracy versus neighbors"
   ]
  },
  {
   "cell_type": "code",
   "execution_count": 20,
   "id": "162051b4-62c9-4814-8691-2d93b91f9783",
   "metadata": {},
   "outputs": [
    {
     "data": {
      "image/png": "[encoded data removed]",
      "text/plain": [
       "plot without title"
      ]
     },
     "metadata": {
      "image/png": {
       "height": 420,
       "width": 420
      }
     },
     "output_type": "display_data"
    }
   ],
   "source": [
    "age_acc_plot <- age_accuracy |> \n",
    "    ggplot(aes(x = neighbors, y = mean)) +\n",
    "    geom_line() +\n",
    "    geom_point() +\n",
    "    labs(x = \"K\", y = \"Accuracy\") +\n",
    "    ggtitle(\"Accuracy vs. K for Age\") +\n",
    "    theme(text = element_text(size=18)) +\n",
    "    scale_x_continuous(breaks = 2:14)\n",
    "age_acc_plot              "
   ]
  },
  {
   "cell_type": "markdown",
   "id": "eb5ff151-0be4-44eb-9478-04ab132783c0",
   "metadata": {},
   "source": [
    "According to this graph, the accuracy is highest when K = 9; therefore, we can specify neighbors = 9 when generating the KNN model for age. However, it should be noted that even though the accuracy is the most at K = 9, this highest accuracy value only reaches 0.54, which means the model only predicts 54% of the data correctly."
   ]
  },
  {
   "cell_type": "code",
   "execution_count": 25,
   "id": "5b1ec617-a028-4f12-bac1-aa1d22df3631",
   "metadata": {},
   "outputs": [
    {
     "data": {
      "text/html": [
       "<table class=\"dataframe\">\n",
       "<caption>A tibble: 1 × 3</caption>\n",
       "<thead>\n",
       "\t<tr><th scope=col>.metric</th><th scope=col>.estimator</th><th scope=col>.estimate</th></tr>\n",
       "\t<tr><th scope=col>&lt;chr&gt;</th><th scope=col>&lt;chr&gt;</th><th scope=col>&lt;dbl&gt;</th></tr>\n",
       "</thead>\n",
       "<tbody>\n",
       "\t<tr><td>accuracy</td><td>multiclass</td><td>0.5064935</td></tr>\n",
       "</tbody>\n",
       "</table>\n"
      ],
      "text/latex": [
       "A tibble: 1 × 3\n",
       "\\begin{tabular}{lll}\n",
       " .metric & .estimator & .estimate\\\\\n",
       " <chr> & <chr> & <dbl>\\\\\n",
       "\\hline\n",
       "\t accuracy & multiclass & 0.5064935\\\\\n",
       "\\end{tabular}\n"
      ],
      "text/markdown": [
       "\n",
       "A tibble: 1 × 3\n",
       "\n",
       "| .metric &lt;chr&gt; | .estimator &lt;chr&gt; | .estimate &lt;dbl&gt; |\n",
       "|---|---|---|\n",
       "| accuracy | multiclass | 0.5064935 |\n",
       "\n"
      ],
      "text/plain": [
       "  .metric  .estimator .estimate\n",
       "1 accuracy multiclass 0.5064935"
      ]
     },
     "metadata": {},
     "output_type": "display_data"
    }
   ],
   "source": [
    "# generate the best KNN classification model for age, specifying K = 9\n",
    "age_knn_best <- nearest_neighbor(weight_func = \"rectangular\", neighbors = 9) |>\n",
    "    set_engine(\"kknn\") |>\n",
    "    set_mode(\"classification\")\n",
    "\n",
    "# fit the training data using the best model\n",
    "age_fit <- workflow() |> \n",
    "    add_recipe(age_recipe) |> \n",
    "    add_model(age_knn_best) |> \n",
    "    fit(data = heart_disease_training)\n",
    "\n",
    "# predict the test dataset using the fit model\n",
    "age_predict <- predict(age_fit, heart_disease_testing) |> \n",
    "    bind_cols(heart_disease_testing) |>\n",
    "    metrics(truth = num, estimate = .pred_class) |>\n",
    "    filter(.metric == \"accuracy\")\n",
    "age_predict"
   ]
  },
  {
   "cell_type": "code",
   "execution_count": null,
   "id": "222f4ee7-dfa3-45fe-a30c-52a19e790a3a",
   "metadata": {},
   "outputs": [],
   "source": []
  }
 ],
 "metadata": {
  "kernelspec": {
   "display_name": "R",
   "language": "R",
   "name": "ir"
  },
  "language_info": {
   "codemirror_mode": "r",
   "file_extension": ".r",
   "mimetype": "text/x-r-source",
   "name": "R",
   "pygments_lexer": "r",
   "version": "4.1.3"
  }
 },
 "nbformat": 4,
 "nbformat_minor": 5
}
